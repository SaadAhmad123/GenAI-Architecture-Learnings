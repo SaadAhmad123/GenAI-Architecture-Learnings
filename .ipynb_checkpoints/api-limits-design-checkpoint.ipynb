{
 "cells": [
  {
   "cell_type": "markdown",
   "id": "2ddbc06f-4a40-4171-bf65-b098ebec404a",
   "metadata": {},
   "source": [
    "In this notebook, I will be exploring the API rate limit based on the mathematical approach mentioned in the `README.md`"
   ]
  },
  {
   "cell_type": "markdown",
   "id": "d231df5f-e992-42e9-8110-72f4a189ec61",
   "metadata": {},
   "source": [
    "### Function to calculate API gateway maximum rate limit based on the max input token size"
   ]
  },
  {
   "cell_type": "code",
   "execution_count": 4,
   "id": "7c002d88-df3e-4983-8eb5-46816f3992c2",
   "metadata": {},
   "outputs": [],
   "source": [
    "def max_rate_limit_per_minute(\n",
    "    total_llm_tokens_per_minute: float,\n",
    "    max_input_tokens_per_request: float,\n",
    "    max_output_tokens_per_request: float = 4096\n",
    ") -> float:\n",
    "    return total_llm_tokens_per_minute / (max_input_tokens_per_request + max_output_tokens_per_request)"
   ]
  },
  {
   "cell_type": "markdown",
   "id": "43c95b9b-7739-4752-988e-4ba4f390d7c0",
   "metadata": {},
   "source": [
    "### Function to calculate maximum input token limit based on the required rate limit"
   ]
  },
  {
   "cell_type": "code",
   "execution_count": 6,
   "id": "3522d2e3-e160-4216-91ed-c8736631a351",
   "metadata": {},
   "outputs": [],
   "source": [
    "def max_input_token_limit_per_request(\n",
    "    total_llm_tokens_per_minute: float,\n",
    "    max_rate_limit_per_minute: float,\n",
    "    max_output_tokens_per_request: float = 4096\n",
    ") -> float:\n",
    "    return (total_llm_tokens_per_minute / max_rate_limit_per_minute) - max_output_tokens_per_request"
   ]
  },
  {
   "cell_type": "markdown",
   "id": "9152bc70-f137-462e-88d7-d9438cdfe0f1",
   "metadata": {},
   "source": [
    "## Function to convert number of tokens to approx. number of words\n",
    "\n",
    "This conversion is derived based on the [documentation](https://help.openai.com/en/articles/4936856-what-are-tokens-and-how-to-count-them) here."
   ]
  },
  {
   "cell_type": "code",
   "execution_count": null,
   "id": "ad3cdaeb-d132-4e38-bb11-2a5edb84e64c",
   "metadata": {},
   "outputs": [],
   "source": [
    "def token_to_word(tokens: float):\n",
    "    return 0.75 * token"
   ]
  },
  {
   "cell_type": "markdown",
   "id": "66a7b53d-09da-4405-be7b-0f494f10c591",
   "metadata": {},
   "source": [
    "# Model Exploration\n",
    "\n",
    "Now in this section, I will pick up a model from a provider and then tabulate the different API constraints based on the above formule"
   ]
  },
  {
   "cell_type": "markdown",
   "id": "c7d1ce2c-6413-45f9-8c4e-bbb2b4800b03",
   "metadata": {},
   "source": [
    "## AWS Bedrock - Claude 3 Sonnet\n",
    "\n",
    "It has the total token limit of 1,000,000 tokens per minute as per the [documentation](https://docs.aws.amazon.com/bedrock/latest/userguide/quotas.html), the maximum Bedrock API rate limit of 500 requests per minute and the maximum input token window of 180,000 (it can actually take 200,000 but I am leaving a buffer) token per request and maximum output token limit of 4096"
   ]
  },
  {
   "cell_type": "code",
   "execution_count": null,
   "id": "17398f75-d829-443a-812c-a4904d15a2d1",
   "metadata": {},
   "outputs": [],
   "source": [
    "import pandas as pd\n",
    "\n",
    "# AWS Bedrock - Claude 3 Sonnet constraints\n",
    "total_llm_tokens_per_minute = 1_000_000\n",
    "max_rate_limit_per_minute = 500\n",
    "max_output_tokens_per_request = 4096\n",
    "max_input_tokens_per_request = 180_000\n",
    "\n",
    "# Generate data for each 4096 input size till 180,000\n",
    "input_tokens_list = list(range(4096, max_input_tokens_per_request + 1, 4096))\n",
    "\n",
    "# Calculate the rate limits and word equivalents\n",
    "data = []\n",
    "for input_tokens in input_tokens_list:\n",
    "    rate_limit = max_rate_limit_per_minute(\n",
    "        total_llm_tokens_per_minute,\n",
    "        input_tokens,\n",
    "        max_output_tokens_per_request\n",
    "    )\n",
    "    words = token_to_word(input_tokens)\n",
    "    data.append((input_tokens, rate_limit, words))\n",
    "\n",
    "# Create a DataFrame for better visualization\n",
    "df = pd.DataFrame(data, columns=['Input Tokens', 'Max Rate Limit Per Minute', 'Approx. Words'])\n",
    "\n",
    "# Display the DataFrame\n",
    "import ace_tools as tools; \n",
    "tools.display_dataframe_to_user(name=\"AWS Bedrock Claude 3 Sonnet API Constraints\", dataframe=df)\n"
   ]
  },
  {
   "cell_type": "code",
   "execution_count": null,
   "id": "79dce379-cb0c-4f0e-bde2-b2548b61e413",
   "metadata": {},
   "outputs": [],
   "source": []
  }
 ],
 "metadata": {
  "kernelspec": {
   "display_name": "Python 3 (ipykernel)",
   "language": "python",
   "name": "python3"
  },
  "language_info": {
   "codemirror_mode": {
    "name": "ipython",
    "version": 3
   },
   "file_extension": ".py",
   "mimetype": "text/x-python",
   "name": "python",
   "nbconvert_exporter": "python",
   "pygments_lexer": "ipython3",
   "version": "3.9.0"
  }
 },
 "nbformat": 4,
 "nbformat_minor": 5
}
